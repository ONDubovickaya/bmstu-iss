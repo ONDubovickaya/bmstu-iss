{
  "cells": [
    {
      "cell_type": "markdown",
      "metadata": {
        "id": "MTj_m1i_7R-u"
      },
      "source": [
        "# Лекция: Введение в AutoML для классификации текстов и изображений\n",
        "\n",
        "### Цель лекции:\n",
        "Познакомить студентов с основами автоматизированного машинного обучения (AutoML) на примере классификации текстов и изображений.\n",
        "\n",
        "### Структура лекции:\n",
        "1. Введение в AutoML.\n",
        "2. Классификация текстов с помощью AutoML.\n",
        "3. Классификация изображений с помощью AutoML.\n",
        "4. Практический пример с Azure Machine Learning [1](https://learn.microsoft.com/ru-ru/azure/machine-learning/component-reference-v2/text-classification?view=azureml-api-2).\n",
        "5. Задачи для самостоятельного изучения.\n"
      ]
    },
    {
      "cell_type": "markdown",
      "metadata": {
        "id": "ldO3itsd7R-w"
      },
      "source": [
        "## 1. Введение в AutoML\n",
        "- **Что такое AutoML?**\n",
        "  - Автоматическое машинное обучение (AutoML) — технология, автоматизирующая этапы создания моделей: выбор алгоритмов, настройку параметров и оценку качества [1](https://learn.microsoft.com/ru-ru/azure/machine-learning/component-reference-v2/text-classification?view=azureml-api-2), [5](https://itexpert.work/ru/data-science-trends/).\n",
        "- **Почему AutoML полезен?**\n",
        "  - Упрощает процесс для новичков, экономит время[1](https://learn.microsoft.com/ru-ru/azure/machine-learning/component-reference-v2/text-classification?view=azureml-api-2).\n",
        "  - Автоматически подбирает лучшие гиперпараметры и архитектуры [2](https://cyberleninka.ru/article/n/sistemy-automl-kak-sovremennyy-instrument-dlya-postroeniya-modeley-mashinnogo-obucheniya), [3](https://cyberleninka.ru/article/n/avtomaticheskoe-mashinnoe-obuchenie-automl-algoritmy-i-instrumenty-dlya-snizheniya-poroga-vhoda).\n",
        "- **Примеры платформ:**\n",
        "  - **Azure Machine Learning** (Microsoft) [1](https://learn.microsoft.com/ru-ru/azure/machine-learning/component-reference-v2/text-classification?view=azureml-api-2).\n",
        "  - **AWS SageMaker** (Amazon) [7](https://infostart.ru/1c/articles/1482928/).\n",
        "  - **Google AutoML** (Google Cloud).\n"
      ]
    },
    {
      "cell_type": "markdown",
      "metadata": {
        "id": "Gub3Ajcg7R-x"
      },
      "source": [
        "## 2. Классификация текстов в AutoML\n",
        "- **Пример задачи:**\n",
        "  - Классификация отзывов на фильмы (положительный/отрицательный) [1](https://learn.microsoft.com/ru-ru/azure/machine-learning/component-reference-v2/text-classification?view=azureml-api-2).\n",
        "- **Как AutoML это решает?**\n",
        "  1. **Подготовка данных:**\n",
        "     - Автоматическая токенизация текста.\n",
        "     - Устранение шума (например, стоп-слова).\n",
        "  2. **Обучение модели:**\n",
        "     - Автоматический выбор алгоритма (например, случайный лес, нейронные сети).\n",
        "     - Оптимизация параметров без ручного вмешательства [1](https://learn.microsoft.com/ru-ru/azure/machine-learning/component-reference-v2/text-classification?view=azureml-api-2), [5](https://itexpert.work/ru/data-science-trends/).\n",
        "- **Преимущества:**\n",
        "  - Начинающие могут фокусироваться на данных, а не на настройках [1](https://learn.microsoft.com/ru-ru/azure/machine-learning/component-reference-v2/text-classification?view=azureml-api-2).\n"
      ]
    },
    {
      "cell_type": "markdown",
      "metadata": {
        "id": "LoWd3jui7R-x"
      },
      "source": [
        "## 3. Классификация изображений в AutoML\n",
        "- **Пример задачи:**\n",
        "  - Распознавание изображений (например, кошки/собаки).\n",
        "- **Как AutoML это решает?**\n",
        "  1. **Подготовка данных:**\n",
        "     - Автоматическая аугментация данных (например, вращение, зеркало) [8]().\n",
        "     - Разделение на обучающую и тестовую выборки.\n",
        "  2. **Обучение модели:**\n",
        "     - Выбор архитектуры (например, ResNet, CNN).\n",
        "     - Автоматическая настройка слоев и параметров [7](https://infostart.ru/1c/articles/1482928/).\n",
        "- **Пример платформы:**\n",
        "  - Azure Machine Learning поддерживает работу с изображениями через встроенные инструменты [1](https://learn.microsoft.com/ru-ru/azure/machine-learning/component-reference-v2/text-classification?view=azureml-api-2).\n"
      ]
    },
    {
      "cell_type": "markdown",
      "metadata": {
        "id": "sfBp5fxA7R-x"
      },
      "source": [
        "## 4. Практический пример: Классификация текстов в Azure Machine Learning [1](https://learn.microsoft.com/ru-ru/azure/machine-learning/component-reference-v2/text-classification?view=azureml-api-2)\n",
        "### Шаги:\n",
        "1. **Загрузка данных:**\n",
        "   - Загрузите датасет (например, отзывы на фильмы).\n",
        "2. **Настройка эксперимента:**\n",
        "   - Выберите задачу: классификация.\n",
        "   - Укажите целевой столбец (например, 'sentiment').\n",
        "3. **Обучение модели:**\n",
        "   - Автоматический поиск оптимальной модели (например, Logistic Regression, SVM).\n",
        "   - Визуализация процесса обучения.\n",
        "4. **Оценка результата:**\n",
        "   - Точность, F1-мера, матрица ошибок.\n",
        "5. **Использование модели:**\n",
        "   - Интеграция в приложения или веб-сервисы.\n",
        "\n",
        "### Пример кода в Azure:\n",
        "```python\n",
        "# Создание эксперимента\n",
        "from azureml.core.workspace import Workspace\n",
        "workspace = Workspace.from_config()\n",
        "\n",
        "# Загрузка данных\n",
        "dataset = Dataset.get_by_name(workspace, 'movie_reviews')\n",
        "\n",
        "# Настройка AutoML\n",
        "automl_config = AutoMLConfig(\n",
        "    task='classification',\n",
        "    primary_metric='accuracy',\n",
        "    training_data=dataset\n",
        ")\n",
        "\n",
        "# Запуск эксперимента\n",
        "experiment = Experiment(workspace, 'text_classification')\n",
        "run = experiment.submit(automl_config)\n",
        "run.wait_for_completion()\n",
        "```\n",
        "\n",
        "### Пояснение:\n",
        "- **AutoMLConfig**: Указываем задачу (классификация) и метрику (точность) [1](https://learn.microsoft.com/ru-ru/azure/machine-learning/component-reference-v2/text-classification?view=azureml-api-2).\n",
        "- **experiment.submit()**: Автоматический запуск обучения и сравнение моделей.\n"
      ]
    },
    {
      "cell_type": "markdown",
      "metadata": {
        "id": "gIUaxHQt7R-y"
      },
      "source": [
        "## 5. Задачи для самостоятельного изучения\n",
        "### Задача 1: Классификация изображений\n",
        "1. **Цель:** Классифицировать изображения цветов на виды (роза, тюльпан, гвоздика).\n",
        "2. **Инструменты:**\n",
        "   - Используйте Azure Machine Learning [1](https://learn.microsoft.com/ru-ru/azure/machine-learning/component-reference-v2/text-classification?view=azureml-api-2) .\n",
        "   - Датасет: https://www.kaggle.com/datasets/alxmamaev/flowers-recognition.\n",
        "3. **Подсказки:**\n",
        "   - Настройте аугментацию данных (например, изменение яркости).\n",
        "   - Сравните точность моделей: CNN vs. AutoML.\n",
        "\n",
        "### Задача 2: Анализ тональности текста\n",
        "1. **Цель:** Определить положительный/отрицательный тон отзывов о продуктах.\n",
        "2. **Инструменты:**\n",
        "   - Используйте Azure Machine Learning или Azure Notebooks.\n",
        "3. **Датасет:**\n",
        "   - IMDb movie reviews (25,000 примеров) [1](https://learn.microsoft.com/ru-ru/azure/machine-learning/component-reference-v2/text-classification?view=azureml-api-2).\n",
        "4. **Этапы:**\n",
        "   - Загрузите данные через AutoML.\n",
        "   - Автоматически обучите модель и проанализируйте результаты.\n"
      ]
    },
    {
      "cell_type": "markdown",
      "metadata": {
        "id": "W7ASIJ7a7R-y"
      },
      "source": [
        "## Вопросы для самоконтроля\n",
        "1. Как AutoML упрощает процесс создания моделей для новичков? [1](https://learn.microsoft.com/ru-ru/azure/machine-learning/component-reference-v2/text-classification?view=azureml-api-2), [5](https://itexpert.work/ru/data-science-trends/)\n",
        "2. Чем отличается классификация текста от классификации изображений в AutoML? [7](https://infostart.ru/1c/articles/1482928/), [8]()\n",
        "3. Какие метрики качества обычно используются в AutoML? [1](https://learn.microsoft.com/ru-ru/azure/machine-learning/component-reference-v2/text-classification?view=azureml-api-2)\n",
        "4. Что такое аугментация данных, и зачем она нужна? [8](https://habr.com/ru/articles/680514/)\n",
        "\n",
        "## Дополнительные ресурсы\n",
        "- **Azure Machine Learning Documentation**: [11](https://docs.microsoft.com/azure/machine-learning).\n",
        "- **Хакатон для практики**: Примеры задач на платформе Microsoft Azure [4](https://habr.com/ru/articles/696056/).\n",
        "- **Основы Data Science**: Подробнее о процессе анализа данных [5](https://itexpert.work/ru/data-science-trends/).\n"
      ]
    }
  ],
  "metadata": {
    "kernelspec": {
      "display_name": "Python 3",
      "language": "python",
      "name": "python3"
    },
    "language_info": {
      "codemirror_mode": {
        "name": "ipython",
        "version": 3
      },
      "file_extension": ".py",
      "mimetype": "text/x-python",
      "name": "python",
      "nbconvert_exporter": "python",
      "pygments_lexer": "ipython3",
      "version": "3.8.5"
    },
    "colab": {
      "provenance": []
    }
  },
  "nbformat": 4,
  "nbformat_minor": 0
}